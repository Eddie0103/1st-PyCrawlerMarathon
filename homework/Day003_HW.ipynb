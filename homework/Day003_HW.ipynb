{
 "cells": [
  {
   "cell_type": "markdown",
   "metadata": {},
   "source": [
    "# Python 下載XML檔案與解析\n",
    "\n",
    "\n",
    "* 了解 xml 檔案格式與內容\n",
    "* 能夠利用套件存取 xml 格式的檔案\n"
   ]
  },
  {
   "cell_type": "markdown",
   "metadata": {},
   "source": [
    "## 作業目標\n",
    "\n",
    "* 比較一下範例檔案中的「File I/O」與「xmltodict」讀出來的內容有什麼差異\n",
    "\n",
    "* 根據範例檔案的結果：\n",
    "    1. 請問高雄市有多少地區有溫度資料？\n",
    "    2. 請取出每一個地區所記錄的第一個時間點跟溫度\n",
    "    3. 請取出第一個地區所記錄的每一個時間點跟溫度"
   ]
  },
  {
   "cell_type": "markdown",
   "metadata": {},
   "source": [
    "### 比較一下範例檔案中的「File I/O」與「xmltodict」讀出來的內容有什麼差異\n"
   ]
  },
  {
   "cell_type": "markdown",
   "metadata": {},
   "source": [
    "### 根據範例檔案的結果：\n",
    "\n",
    "1. 請問高雄市有多少地區有溫度資料？\n",
    "2. 請取出每一個地區所記錄的第一個時間點跟溫度\n",
    "3. 請取出第一個地區所記錄的每一個時間點跟溫度"
   ]
  },
  {
   "cell_type": "code",
   "execution_count": 17,
   "metadata": {},
   "outputs": [
    {
     "ename": "FileNotFoundError",
     "evalue": "[Errno 2] No such file or directory: './data/web.zip'",
     "output_type": "error",
     "traceback": [
      "\u001b[0;31m---------------------------------------------------------------------------\u001b[0m",
      "\u001b[0;31mFileNotFoundError\u001b[0m                         Traceback (most recent call last)",
      "\u001b[0;32m<ipython-input-17-f875f322fc74>\u001b[0m in \u001b[0;36m<module>\u001b[0;34m\u001b[0m\n\u001b[1;32m      5\u001b[0m \u001b[0mweb\u001b[0m \u001b[0;34m=\u001b[0m \u001b[0;34m'http://opendata.cwb.gov.tw/govdownload?dataid=F-D0047-093&authorizationkey=rdec-key-123-45678-011121314'\u001b[0m\u001b[0;34m\u001b[0m\u001b[0;34m\u001b[0m\u001b[0m\n\u001b[1;32m      6\u001b[0m \u001b[0murllib\u001b[0m\u001b[0;34m.\u001b[0m\u001b[0mrequest\u001b[0m\u001b[0;34m.\u001b[0m\u001b[0murlretrieve\u001b[0m\u001b[0;34m(\u001b[0m\u001b[0mweb\u001b[0m\u001b[0;34m,\u001b[0m \u001b[0;34m'./data/web.zip'\u001b[0m\u001b[0;34m)\u001b[0m\u001b[0;34m\u001b[0m\u001b[0;34m\u001b[0m\u001b[0m\n\u001b[0;32m----> 7\u001b[0;31m \u001b[0mf\u001b[0m \u001b[0;34m=\u001b[0m \u001b[0mzipfile\u001b[0m\u001b[0;34m.\u001b[0m\u001b[0mZipFile\u001b[0m\u001b[0;34m(\u001b[0m\u001b[0;34m'./data/web.zip'\u001b[0m\u001b[0;34m)\u001b[0m\u001b[0;34m\u001b[0m\u001b[0;34m\u001b[0m\u001b[0m\n\u001b[0m\u001b[1;32m      8\u001b[0m \u001b[0mf\u001b[0m\u001b[0;34m.\u001b[0m\u001b[0mextractall\u001b[0m\u001b[0;34m(\u001b[0m\u001b[0;34m'./data'\u001b[0m\u001b[0;34m)\u001b[0m\u001b[0;34m\u001b[0m\u001b[0;34m\u001b[0m\u001b[0m\n",
      "\u001b[0;32m~/opt/anaconda3/lib/python3.7/zipfile.py\u001b[0m in \u001b[0;36m__init__\u001b[0;34m(self, file, mode, compression, allowZip64, compresslevel)\u001b[0m\n\u001b[1;32m   1205\u001b[0m             \u001b[0;32mwhile\u001b[0m \u001b[0;32mTrue\u001b[0m\u001b[0;34m:\u001b[0m\u001b[0;34m\u001b[0m\u001b[0;34m\u001b[0m\u001b[0m\n\u001b[1;32m   1206\u001b[0m                 \u001b[0;32mtry\u001b[0m\u001b[0;34m:\u001b[0m\u001b[0;34m\u001b[0m\u001b[0;34m\u001b[0m\u001b[0m\n\u001b[0;32m-> 1207\u001b[0;31m                     \u001b[0mself\u001b[0m\u001b[0;34m.\u001b[0m\u001b[0mfp\u001b[0m \u001b[0;34m=\u001b[0m \u001b[0mio\u001b[0m\u001b[0;34m.\u001b[0m\u001b[0mopen\u001b[0m\u001b[0;34m(\u001b[0m\u001b[0mfile\u001b[0m\u001b[0;34m,\u001b[0m \u001b[0mfilemode\u001b[0m\u001b[0;34m)\u001b[0m\u001b[0;34m\u001b[0m\u001b[0;34m\u001b[0m\u001b[0m\n\u001b[0m\u001b[1;32m   1208\u001b[0m                 \u001b[0;32mexcept\u001b[0m \u001b[0mOSError\u001b[0m\u001b[0;34m:\u001b[0m\u001b[0;34m\u001b[0m\u001b[0;34m\u001b[0m\u001b[0m\n\u001b[1;32m   1209\u001b[0m                     \u001b[0;32mif\u001b[0m \u001b[0mfilemode\u001b[0m \u001b[0;32min\u001b[0m \u001b[0mmodeDict\u001b[0m\u001b[0;34m:\u001b[0m\u001b[0;34m\u001b[0m\u001b[0;34m\u001b[0m\u001b[0m\n",
      "\u001b[0;31mFileNotFoundError\u001b[0m: [Errno 2] No such file or directory: './data/web.zip'"
     ]
    }
   ],
   "source": [
    "#下載檔案\n",
    "import urllib.request\n",
    "import zipfile\n",
    "\n",
    "web = 'http://opendata.cwb.gov.tw/govdownload?dataid=F-D0047-093&authorizationkey=rdec-key-123-45678-011121314'\n",
    "urllib.request.urlretrieve(web, './data/web.zip')\n",
    "f = zipfile.ZipFile('./data/web.zip')\n",
    "f.extractall('./data')"
   ]
  },
  {
   "cell_type": "code",
   "execution_count": 13,
   "metadata": {},
   "outputs": [
    {
     "ename": "FileNotFoundError",
     "evalue": "[Errno 2] No such file or directory: './data/64_72hr_CH.xml'",
     "output_type": "error",
     "traceback": [
      "\u001b[0;31m---------------------------------------------------------------------------\u001b[0m",
      "\u001b[0;31mFileNotFoundError\u001b[0m                         Traceback (most recent call last)",
      "\u001b[0;32m<ipython-input-13-55e0e4de777e>\u001b[0m in \u001b[0;36m<module>\u001b[0;34m\u001b[0m\n\u001b[1;32m      2\u001b[0m \u001b[0;32mimport\u001b[0m \u001b[0mxmltodict\u001b[0m\u001b[0;34m\u001b[0m\u001b[0;34m\u001b[0m\u001b[0m\n\u001b[1;32m      3\u001b[0m \u001b[0;34m\u001b[0m\u001b[0m\n\u001b[0;32m----> 4\u001b[0;31m \u001b[0;32mwith\u001b[0m \u001b[0mopen\u001b[0m\u001b[0;34m(\u001b[0m\u001b[0;34m'./data/64_72hr_CH.xml'\u001b[0m\u001b[0;34m)\u001b[0m \u001b[0;32mas\u001b[0m \u001b[0mfd\u001b[0m\u001b[0;34m:\u001b[0m\u001b[0;34m\u001b[0m\u001b[0;34m\u001b[0m\u001b[0m\n\u001b[0m\u001b[1;32m      5\u001b[0m     \u001b[0mxml\u001b[0m \u001b[0;34m=\u001b[0m \u001b[0mdict\u001b[0m\u001b[0;34m(\u001b[0m\u001b[0mxmltodict\u001b[0m\u001b[0;34m.\u001b[0m\u001b[0mparse\u001b[0m\u001b[0;34m(\u001b[0m\u001b[0mfd\u001b[0m\u001b[0;34m.\u001b[0m\u001b[0mread\u001b[0m\u001b[0;34m(\u001b[0m\u001b[0;34m)\u001b[0m\u001b[0;34m)\u001b[0m\u001b[0;34m)\u001b[0m\u001b[0;34m\u001b[0m\u001b[0;34m\u001b[0m\u001b[0m\n\u001b[1;32m      6\u001b[0m \u001b[0;34m\u001b[0m\u001b[0m\n",
      "\u001b[0;31mFileNotFoundError\u001b[0m: [Errno 2] No such file or directory: './data/64_72hr_CH.xml'"
     ]
    }
   ],
   "source": [
    "#coding: utf-8\n",
    "import xmltodict\n",
    "\n",
    "with open('./data/64_72hr_CH.xml') as fd:\n",
    "    xml = dict(xmltodict.parse(fd.read()))\n",
    "\n",
    "res = xml['cwbopendata']['dataset']['locations']['location']\n",
    "\n",
    "print('請問高雄市有多少地區有溫度資料:', len(res))\n"
   ]
  },
  {
   "cell_type": "code",
   "execution_count": 8,
   "metadata": {},
   "outputs": [
    {
     "name": "stdout",
     "output_type": "stream",
     "text": [
      "鹽埕區 2019-12-07T06:00:00+08:00 溫度 15\n",
      "鼓山區 2019-12-07T06:00:00+08:00 溫度 15\n",
      "左營區 2019-12-07T06:00:00+08:00 溫度 14\n",
      "楠梓區 2019-12-07T06:00:00+08:00 溫度 14\n",
      "三民區 2019-12-07T06:00:00+08:00 溫度 15\n",
      "新興區 2019-12-07T06:00:00+08:00 溫度 15\n",
      "前金區 2019-12-07T06:00:00+08:00 溫度 15\n",
      "苓雅區 2019-12-07T06:00:00+08:00 溫度 15\n",
      "前鎮區 2019-12-07T06:00:00+08:00 溫度 15\n",
      "旗津區 2019-12-07T06:00:00+08:00 溫度 15\n",
      "小港區 2019-12-07T06:00:00+08:00 溫度 15\n",
      "鳳山區 2019-12-07T06:00:00+08:00 溫度 14\n",
      "林園區 2019-12-07T06:00:00+08:00 溫度 16\n",
      "大寮區 2019-12-07T06:00:00+08:00 溫度 15\n",
      "大樹區 2019-12-07T06:00:00+08:00 溫度 14\n",
      "大社區 2019-12-07T06:00:00+08:00 溫度 14\n",
      "仁武區 2019-12-07T06:00:00+08:00 溫度 13\n",
      "鳥松區 2019-12-07T06:00:00+08:00 溫度 14\n",
      "岡山區 2019-12-07T06:00:00+08:00 溫度 14\n",
      "橋頭區 2019-12-07T06:00:00+08:00 溫度 14\n",
      "燕巢區 2019-12-07T06:00:00+08:00 溫度 14\n",
      "田寮區 2019-12-07T06:00:00+08:00 溫度 13\n",
      "阿蓮區 2019-12-07T06:00:00+08:00 溫度 13\n",
      "路竹區 2019-12-07T06:00:00+08:00 溫度 14\n",
      "湖內區 2019-12-07T06:00:00+08:00 溫度 15\n",
      "茄萣區 2019-12-07T06:00:00+08:00 溫度 15\n",
      "永安區 2019-12-07T06:00:00+08:00 溫度 14\n",
      "彌陀區 2019-12-07T06:00:00+08:00 溫度 14\n",
      "梓官區 2019-12-07T06:00:00+08:00 溫度 14\n",
      "旗山區 2019-12-07T06:00:00+08:00 溫度 14\n",
      "美濃區 2019-12-07T06:00:00+08:00 溫度 15\n",
      "六龜區 2019-12-07T06:00:00+08:00 溫度 16\n",
      "甲仙區 2019-12-07T06:00:00+08:00 溫度 14\n",
      "杉林區 2019-12-07T06:00:00+08:00 溫度 15\n",
      "內門區 2019-12-07T06:00:00+08:00 溫度 13\n",
      "茂林區 2019-12-07T06:00:00+08:00 溫度 14\n",
      "桃源區 2019-12-07T06:00:00+08:00 溫度 15\n",
      "那瑪夏區 2019-12-07T06:00:00+08:00 溫度 14\n"
     ]
    }
   ],
   "source": [
    "# 2. 請取出每一個地區所記錄的第一個時間點跟溫度\n",
    "#coding: utf-8\n",
    "import xmltodict\n",
    "\n",
    "with open('./data/64_72hr_CH.xml', encoding='utf-8') as fd:\n",
    "    xml = dict(xmltodict.parse(fd.read()))\n",
    "\n",
    "location = xml['cwbopendata']['dataset']['locations']['location']\n",
    "\n",
    "for i in location:\n",
    "    for j in i['weatherElement']:\n",
    "        if j['description'] == '溫度':\n",
    "            print(i['locationName'], j['time'][0]['dataTime'], '溫度', j['time'][0]['elementValue']['value'])\n"
   ]
  },
  {
   "cell_type": "code",
   "execution_count": 7,
   "metadata": {},
   "outputs": [
    {
     "name": "stdout",
     "output_type": "stream",
     "text": [
      "2019-12-07T06:00:00+08:00 溫度: 15\n",
      "2019-12-07T09:00:00+08:00 溫度: 16\n",
      "2019-12-07T12:00:00+08:00 溫度: 21\n",
      "2019-12-07T15:00:00+08:00 溫度: 22\n",
      "2019-12-07T18:00:00+08:00 溫度: 20\n",
      "2019-12-07T21:00:00+08:00 溫度: 18\n",
      "2019-12-08T00:00:00+08:00 溫度: 17\n",
      "2019-12-08T03:00:00+08:00 溫度: 16\n",
      "2019-12-08T06:00:00+08:00 溫度: 15\n",
      "2019-12-08T09:00:00+08:00 溫度: 17\n",
      "2019-12-08T12:00:00+08:00 溫度: 22\n",
      "2019-12-08T15:00:00+08:00 溫度: 23\n",
      "2019-12-08T18:00:00+08:00 溫度: 21\n",
      "2019-12-08T21:00:00+08:00 溫度: 19\n",
      "2019-12-09T00:00:00+08:00 溫度: 18\n",
      "2019-12-09T03:00:00+08:00 溫度: 17\n",
      "2019-12-09T06:00:00+08:00 溫度: 16\n",
      "2019-12-09T09:00:00+08:00 溫度: 18\n",
      "2019-12-09T12:00:00+08:00 溫度: 22\n",
      "2019-12-09T15:00:00+08:00 溫度: 23\n",
      "2019-12-09T18:00:00+08:00 溫度: 21\n",
      "2019-12-09T21:00:00+08:00 溫度: 19\n",
      "2019-12-10T00:00:00+08:00 溫度: 18\n",
      "2019-12-10T03:00:00+08:00 溫度: 17\n"
     ]
    }
   ],
   "source": [
    "# 3. 請取出第一個地區所記錄的每一個時間點跟溫度\n",
    "#coding: utf-8\n",
    "import xmltodict\n",
    "\n",
    "with open('./data/64_72hr_CH.xml') as fd:\n",
    "    xml = xmltodict.parse(fd.read())\n",
    "\n",
    "res = xml['cwbopendata']['dataset']['locations']['location']\n",
    "\n",
    "for i in res[0]['weatherElement']:\n",
    "    if i['description'] == '溫度':\n",
    "        for j in i['time']:\n",
    "            print(j['dataTime'], '溫度:', j['elementValue']['value'])"
   ]
  }
 ],
 "metadata": {
  "kernelspec": {
   "display_name": "Python 3",
   "language": "python",
   "name": "python3"
  },
  "language_info": {
   "codemirror_mode": {
    "name": "ipython",
    "version": 3
   },
   "file_extension": ".py",
   "mimetype": "text/x-python",
   "name": "python",
   "nbconvert_exporter": "python",
   "pygments_lexer": "ipython3",
   "version": "3.7.4"
  }
 },
 "nbformat": 4,
 "nbformat_minor": 2
}
