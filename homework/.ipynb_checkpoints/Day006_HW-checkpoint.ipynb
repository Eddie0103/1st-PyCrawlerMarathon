{
 "cells": [
  {
   "cell_type": "markdown",
   "metadata": {},
   "source": [
    "# API 資料串接 - 以 知乎 API 實作範例\n",
    "\n",
    "\n",
    "\n",
    "* 了解知乎 API 使用方式與回傳內容\n",
    "* 撰寫程式存取 API 且添加標頭\n",
    "\n",
    "\n"
   ]
  },
  {
   "cell_type": "markdown",
   "metadata": {},
   "source": [
    "## 作業目標\n",
    "\n",
    "* 根據範例提供的 API ，完成以下問題：\n",
    "\n",
    "    1. 取出知乎問題發問時間\n",
    "    2. 取出第一筆與最後一筆回答的時間\n"
   ]
  },
  {
   "cell_type": "markdown",
   "metadata": {},
   "source": [
    "### 1. 取出知乎問題發問時間"
   ]
  },
  {
   "cell_type": "code",
   "execution_count": 1,
   "metadata": {},
   "outputs": [
    {
     "name": "stdout",
     "output_type": "stream",
     "text": [
      "取出知乎問題發問時間:\n",
      "2017-02-06 22:10:29\n"
     ]
    }
   ],
   "source": [
    "# 1. 取出知乎問題發問時間\n",
    "#coding: utf-8\n",
    "import requests\n",
    "import json\n",
    "from datetime import datetime\n",
    "\n",
    "headers = {'user-agent': 'Mozilla/5.0 (Macintosh; Intel Mac OS X 10_13_0) AppleWebKit/537.36 (KHTML, like Gecko) Chrome/78.0.3904.108 Safari/537.36'}\n",
    "\n",
    "url = requests.get('https://www.zhihu.com/api/v4/questions/55493026/answers', headers=headers)\n",
    "res = url.text\n",
    "\n",
    "data = json.loads(res)\n",
    "\n",
    "ask_time = data['data'][0]['question']['created']\n",
    "print('取出知乎問題發問時間:\\n{}'.format(datetime.fromtimestamp(ask_time)))"
   ]
  },
  {
   "cell_type": "markdown",
   "metadata": {},
   "source": [
    "### 2. 取出第一筆與最後一筆回答的時間"
   ]
  },
  {
   "cell_type": "code",
   "execution_count": 2,
   "metadata": {},
   "outputs": [
    {
     "name": "stdout",
     "output_type": "stream",
     "text": [
      "第一筆回答的時間:\n",
      "2017-05-02 10:45:13\n",
      "最後一筆回答的時間:\n",
      "2019-10-29 11:07:06\n"
     ]
    }
   ],
   "source": [
    "# 2. 取出第一筆與最後一筆回答的時間\n",
    "\n",
    "ans_time =[]\n",
    "for i in data['data']:\n",
    "    ans_time.append(i['created_time'])\n",
    "\n",
    "first_time = sorted(ans_time)[0]\n",
    "last_time = sorted(ans_time)[-1]\n",
    "\n",
    "print('第一筆回答的時間:\\n{}\\n最後一筆回答的時間:\\n{}'.format(\n",
    "    datetime.fromtimestamp(first_time),\n",
    "    datetime.fromtimestamp(last_time)))"
   ]
  }
 ],
 "metadata": {
  "kernelspec": {
   "display_name": "Python 3",
   "language": "python",
   "name": "python3"
  },
  "language_info": {
   "codemirror_mode": {
    "name": "ipython",
    "version": 3
   },
   "file_extension": ".py",
   "mimetype": "text/x-python",
   "name": "python",
   "nbconvert_exporter": "python",
   "pygments_lexer": "ipython3",
   "version": "3.7.4"
  }
 },
 "nbformat": 4,
 "nbformat_minor": 2
}
