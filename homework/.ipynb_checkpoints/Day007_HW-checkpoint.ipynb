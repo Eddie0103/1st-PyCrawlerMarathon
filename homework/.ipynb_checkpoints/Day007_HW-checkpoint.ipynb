{
 "cells": [
  {
   "cell_type": "markdown",
   "metadata": {},
   "source": [
    "# HTTP 靜態網頁架構說明\n",
    "\n",
    "* 認識靜態網頁的溝通架構與運作原理\n",
    "* HTML、CSS、JavaScript 在網頁中扮演的角色\n",
    "* 網頁中定位資料的方法"
   ]
  },
  {
   "cell_type": "markdown",
   "metadata": {},
   "source": [
    "## 作業目標\n",
    "\n",
    "1. （簡答題）請問目前提到的這種基於 HTTP 一來一回的網頁傳輸方式，有哪些缺點及問題？\n",
    "2. （簡答題）網頁中使用的 JavaScipt 程式語言，跟我們一般使用的 Python 在執行上有什麼不同。\n"
   ]
  },
  {
   "cell_type": "markdown",
   "metadata": {},
   "source": [
    "### 1.（簡答題）請問目前提到的這種基於 HTTP 一來一回的網頁傳輸方式，有哪些缺點及問題？"
   ]
  },
  {
   "cell_type": "code",
   "execution_count": 4,
   "metadata": {},
   "outputs": [
    {
     "data": {
      "text/plain": [
       "'\\nHTTP以明文的方式發送內容，不提供任何方式的數據加密。\\n如果攻擊者截取了Web瀏覽器和網站伺服器之間的傳輸報文，就可以直接讀懂其中的訊息。\\n所以HTTP不適合傳輸一些敏感訊息：信用卡號、密碼等支付信息。\\n'"
      ]
     },
     "execution_count": 4,
     "metadata": {},
     "output_type": "execute_result"
    }
   ],
   "source": [
    "#coding: utf-8\n",
    "'''\n",
    "HTTP以明文的方式發送內容，不提供任何方式的數據加密。\n",
    "如果攻擊者截取了Web瀏覽器和網站伺服器之間的傳輸報文，就可以直接讀懂其中的訊息。\n",
    "所以HTTP不適合傳輸一些敏感訊息：信用卡號、密碼等支付信息。\n",
    "'''"
   ]
  },
  {
   "cell_type": "markdown",
   "metadata": {},
   "source": [
    "### 2. （簡答題）網頁中使用的 JavaScipt 程式語言，跟我們一般使用的 Python 在執行上有什麼不同。"
   ]
  },
  {
   "cell_type": "code",
   "execution_count": 5,
   "metadata": {},
   "outputs": [
    {
     "data": {
      "text/plain": [
       "'\\nJavascript和python的差別\\n\\n兩個都是指令碼語言，所以有很多共同的特性，都需要用直譯器來執行、都是動態型別、都支援自動記憶體管理、都可以呼叫eval()來執行指令碼等等指令碼語言所共有的特性。\\n\\nJavascript設計之初是一種客戶端的指令碼語言，主要應用在瀏覽器，它的語法主要借鑒于C。\\n\\nJavascript的物件導向是基於原型的，物件的繼承是由原型(同樣也是物件)建立出來的，由原型物件建立出來的物件繼承了原型鏈上的方法。\\n\\n而Python是中規中局的基於類的繼承，並且天然的支援多型。\\n\\n\\n數據類型\\n\\nJavascript的數據較簡單，有object, string, boolean, number, null, undefined總共六種。\\n\\npython中一切都是對象，像module, fumction, class都是。\\n\\npython有五個內置的簡單數據類型：bool, int, long, float, complex。\\n\\n\\n布爾\\n\\nJavascript的是true, false\\n\\npython是True, False\\n\\n除了大小寫沒有什麼區別。\\n\\n字符串\\n\\nJavascript採用的是utf-16\\n\\npython使用ASCII碼，需要調用encode, decode編碼轉換。\\n\\n列表\\n\\nJavascript內置了array類型(array也是object)\\n\\npython的list和Javascript的array比較接近，而tuple可以理解為不可改變的列表。\\n\\npython對列表下標的操作比較靈活也比較方便，這是Javascript所沒有的。列如：x[5:-1], x[:6]等。\\n\\n字典、哈希表、對象\\n\\nJavascript中大量的使用{}來創建對象，這些對象和字典沒有什麼區別，可以使用[]或者.點號來訪問對象的成員。\\n\\n可以動態的添加、修改和刪除成員，可以認為對象就是Javascript的字典或哈希表，對象的key必須是字符串。\\n\\npython內置了哈希表dictS，和Javascript不同的是dictS可以有各種類型的key值。\\n\\n空值\\n\\nJavascript定義了兩種空值，undefined表示變量沒有被初始化，null表示變量已經初始化但是值為空。\\n\\npython中不存在未初始化的值，如果一個變量值是空的，那麼會用None來表示。\\n\\nJavascript中變量的聲明和初始化：\\n\\n    v1;\\n    v2 = null;\\n    var v3;\\n    var v4 = null;\\n    var v5 = \\'something\\';\\n\\n上面例子中，v1是全局變量，未初始化，值為undefined。\\n\\nv2是全局變量，初始化為空值。\\n\\nv3是局部未初始化變量。\\n\\nv4是局部初始化為空值的變量。\\n\\nv5是局部已經初始化為一個字符串的變量。\\n\\npython中變量的聲明和初始化：\\n\\n    v1 = None\\n    v2 = \\'something\\'\\n\\npython中的變量聲明和初始化就簡單很多，當python中訪問一個不存在的變量時，就會拋出NameError異常。\\n\\n類型檢查\\n\\nJavascript可以透過typeof來獲得某個變量的類型：\\n\\n    typeof 3 // \"number\"\\n    typeof \"abc\" // \"string\"\\n    typeof {} // \"object\"\\n    typeof tyur // \"boolean\"\\n    typeof undefined // \"undefined\"\\n    typeof function(){} // \"function\"\\n    typeof [] // \"object\"\\n    typeof null // \"object\"\\n\\n要非常小心使用typeof，從例子可以看到typeof null是object，因為Javascript的弱類型特性。\\n'"
      ]
     },
     "execution_count": 5,
     "metadata": {},
     "output_type": "execute_result"
    }
   ],
   "source": [
    "'''\n",
    "Javascript和python的差別\n",
    "\n",
    "兩個都是指令碼語言，所以有很多共同的特性，都需要用直譯器來執行、都是動態型別、都支援自動記憶體管理、都可以呼叫eval()來執行指令碼等等指令碼語言所共有的特性。\n",
    "\n",
    "Javascript設計之初是一種客戶端的指令碼語言，主要應用在瀏覽器，它的語法主要借鑒于C。\n",
    "\n",
    "Javascript的物件導向是基於原型的，物件的繼承是由原型(同樣也是物件)建立出來的，由原型物件建立出來的物件繼承了原型鏈上的方法。\n",
    "\n",
    "而Python是中規中局的基於類的繼承，並且天然的支援多型。\n",
    "\n",
    "\n",
    "數據類型\n",
    "\n",
    "Javascript的數據較簡單，有object, string, boolean, number, null, undefined總共六種。\n",
    "\n",
    "python中一切都是對象，像module, fumction, class都是。\n",
    "\n",
    "python有五個內置的簡單數據類型：bool, int, long, float, complex。\n",
    "\n",
    "\n",
    "布爾\n",
    "\n",
    "Javascript的是true, false\n",
    "\n",
    "python是True, False\n",
    "\n",
    "除了大小寫沒有什麼區別。\n",
    "\n",
    "字符串\n",
    "\n",
    "Javascript採用的是utf-16\n",
    "\n",
    "python使用ASCII碼，需要調用encode, decode編碼轉換。\n",
    "\n",
    "列表\n",
    "\n",
    "Javascript內置了array類型(array也是object)\n",
    "\n",
    "python的list和Javascript的array比較接近，而tuple可以理解為不可改變的列表。\n",
    "\n",
    "python對列表下標的操作比較靈活也比較方便，這是Javascript所沒有的。列如：x[5:-1], x[:6]等。\n",
    "\n",
    "字典、哈希表、對象\n",
    "\n",
    "Javascript中大量的使用{}來創建對象，這些對象和字典沒有什麼區別，可以使用[]或者.點號來訪問對象的成員。\n",
    "\n",
    "可以動態的添加、修改和刪除成員，可以認為對象就是Javascript的字典或哈希表，對象的key必須是字符串。\n",
    "\n",
    "python內置了哈希表dictS，和Javascript不同的是dictS可以有各種類型的key值。\n",
    "\n",
    "空值\n",
    "\n",
    "Javascript定義了兩種空值，undefined表示變量沒有被初始化，null表示變量已經初始化但是值為空。\n",
    "\n",
    "python中不存在未初始化的值，如果一個變量值是空的，那麼會用None來表示。\n",
    "\n",
    "Javascript中變量的聲明和初始化：\n",
    "\n",
    "    v1;\n",
    "    v2 = null;\n",
    "    var v3;\n",
    "    var v4 = null;\n",
    "    var v5 = 'something';\n",
    "\n",
    "上面例子中，v1是全局變量，未初始化，值為undefined。\n",
    "\n",
    "v2是全局變量，初始化為空值。\n",
    "\n",
    "v3是局部未初始化變量。\n",
    "\n",
    "v4是局部初始化為空值的變量。\n",
    "\n",
    "v5是局部已經初始化為一個字符串的變量。\n",
    "\n",
    "python中變量的聲明和初始化：\n",
    "\n",
    "    v1 = None\n",
    "    v2 = 'something'\n",
    "\n",
    "python中的變量聲明和初始化就簡單很多，當python中訪問一個不存在的變量時，就會拋出NameError異常。\n",
    "\n",
    "類型檢查\n",
    "\n",
    "Javascript可以透過typeof來獲得某個變量的類型：\n",
    "\n",
    "    typeof 3 // \"number\"\n",
    "    typeof \"abc\" // \"string\"\n",
    "    typeof {} // \"object\"\n",
    "    typeof tyur // \"boolean\"\n",
    "    typeof undefined // \"undefined\"\n",
    "    typeof function(){} // \"function\"\n",
    "    typeof [] // \"object\"\n",
    "    typeof null // \"object\"\n",
    "\n",
    "要非常小心使用typeof，從例子可以看到typeof null是object，因為Javascript的弱類型特性。\n",
    "'''"
   ]
  }
 ],
 "metadata": {
  "kernelspec": {
   "display_name": "Python 3",
   "language": "python",
   "name": "python3"
  },
  "language_info": {
   "codemirror_mode": {
    "name": "ipython",
    "version": 3
   },
   "file_extension": ".py",
   "mimetype": "text/x-python",
   "name": "python",
   "nbconvert_exporter": "python",
   "pygments_lexer": "ipython3",
   "version": "3.7.4"
  }
 },
 "nbformat": 4,
 "nbformat_minor": 2
}
